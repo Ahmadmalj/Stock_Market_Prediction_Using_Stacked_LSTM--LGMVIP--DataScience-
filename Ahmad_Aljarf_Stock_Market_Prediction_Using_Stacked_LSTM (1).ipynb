{
  "nbformat": 4,
  "nbformat_minor": 0,
  "metadata": {
    "colab": {
      "provenance": []
    },
    "kernelspec": {
      "name": "python3",
      "display_name": "Python 3"
    },
    "language_info": {
      "name": "python"
    }
  },
  "cells": [
    {
      "cell_type": "markdown",
      "source": [
        "###Ahmad Aljarf\n",
        "\n",
        "###Stock Market Prediction And Forecasting Using Stacked LSTM\n",
        "\n",
        "###LetsGrowMore\n",
        "\n",
        "###Batch: January 2023"
      ],
      "metadata": {
        "id": "o15pCj3g0ZH-"
      }
    },
    {
      "cell_type": "markdown",
      "source": [
        "Lets import the required libraries"
      ],
      "metadata": {
        "id": "u_udbfDO5sPW"
      }
    },
    {
      "cell_type": "code",
      "execution_count": null,
      "metadata": {
        "colab": {
          "base_uri": "https://localhost:8080/",
          "height": 424
        },
        "id": "9GprQ-_X0Xwg",
        "outputId": "cf1ee912-e881-49e6-8f2b-14d670096f50"
      },
      "outputs": [
        {
          "output_type": "execute_result",
          "data": {
            "text/plain": [
              "            Date    Open    High     Low    Last   Close  \\\n",
              "0     2018-09-28  234.05  235.95  230.20  233.50  233.75   \n",
              "1     2018-09-27  234.55  236.80  231.10  233.80  233.25   \n",
              "2     2018-09-26  240.00  240.00  232.50  235.00  234.25   \n",
              "3     2018-09-25  233.30  236.75  232.00  236.25  236.10   \n",
              "4     2018-09-24  233.55  239.20  230.75  234.00  233.30   \n",
              "...          ...     ...     ...     ...     ...     ...   \n",
              "2030  2010-07-27  117.60  119.50  112.00  118.80  118.65   \n",
              "2031  2010-07-26  120.10  121.00  117.10  117.10  117.60   \n",
              "2032  2010-07-23  121.80  121.95  120.25  120.35  120.65   \n",
              "2033  2010-07-22  120.30  122.00  120.25  120.75  120.90   \n",
              "2034  2010-07-21  122.10  123.00  121.05  121.10  121.55   \n",
              "\n",
              "      Total Trade Quantity  Turnover (Lacs)  \n",
              "0                  3069914          7162.35  \n",
              "1                  5082859         11859.95  \n",
              "2                  2240909          5248.60  \n",
              "3                  2349368          5503.90  \n",
              "4                  3423509          7999.55  \n",
              "...                    ...              ...  \n",
              "2030                586100           694.98  \n",
              "2031                658440           780.01  \n",
              "2032                281312           340.31  \n",
              "2033                293312           355.17  \n",
              "2034                658666           803.56  \n",
              "\n",
              "[2035 rows x 8 columns]"
            ],
            "text/html": [
              "\n",
              "  <div id=\"df-b72b167e-1876-4483-a43c-a04d9fc7a868\">\n",
              "    <div class=\"colab-df-container\">\n",
              "      <div>\n",
              "<style scoped>\n",
              "    .dataframe tbody tr th:only-of-type {\n",
              "        vertical-align: middle;\n",
              "    }\n",
              "\n",
              "    .dataframe tbody tr th {\n",
              "        vertical-align: top;\n",
              "    }\n",
              "\n",
              "    .dataframe thead th {\n",
              "        text-align: right;\n",
              "    }\n",
              "</style>\n",
              "<table border=\"1\" class=\"dataframe\">\n",
              "  <thead>\n",
              "    <tr style=\"text-align: right;\">\n",
              "      <th></th>\n",
              "      <th>Date</th>\n",
              "      <th>Open</th>\n",
              "      <th>High</th>\n",
              "      <th>Low</th>\n",
              "      <th>Last</th>\n",
              "      <th>Close</th>\n",
              "      <th>Total Trade Quantity</th>\n",
              "      <th>Turnover (Lacs)</th>\n",
              "    </tr>\n",
              "  </thead>\n",
              "  <tbody>\n",
              "    <tr>\n",
              "      <th>0</th>\n",
              "      <td>2018-09-28</td>\n",
              "      <td>234.05</td>\n",
              "      <td>235.95</td>\n",
              "      <td>230.20</td>\n",
              "      <td>233.50</td>\n",
              "      <td>233.75</td>\n",
              "      <td>3069914</td>\n",
              "      <td>7162.35</td>\n",
              "    </tr>\n",
              "    <tr>\n",
              "      <th>1</th>\n",
              "      <td>2018-09-27</td>\n",
              "      <td>234.55</td>\n",
              "      <td>236.80</td>\n",
              "      <td>231.10</td>\n",
              "      <td>233.80</td>\n",
              "      <td>233.25</td>\n",
              "      <td>5082859</td>\n",
              "      <td>11859.95</td>\n",
              "    </tr>\n",
              "    <tr>\n",
              "      <th>2</th>\n",
              "      <td>2018-09-26</td>\n",
              "      <td>240.00</td>\n",
              "      <td>240.00</td>\n",
              "      <td>232.50</td>\n",
              "      <td>235.00</td>\n",
              "      <td>234.25</td>\n",
              "      <td>2240909</td>\n",
              "      <td>5248.60</td>\n",
              "    </tr>\n",
              "    <tr>\n",
              "      <th>3</th>\n",
              "      <td>2018-09-25</td>\n",
              "      <td>233.30</td>\n",
              "      <td>236.75</td>\n",
              "      <td>232.00</td>\n",
              "      <td>236.25</td>\n",
              "      <td>236.10</td>\n",
              "      <td>2349368</td>\n",
              "      <td>5503.90</td>\n",
              "    </tr>\n",
              "    <tr>\n",
              "      <th>4</th>\n",
              "      <td>2018-09-24</td>\n",
              "      <td>233.55</td>\n",
              "      <td>239.20</td>\n",
              "      <td>230.75</td>\n",
              "      <td>234.00</td>\n",
              "      <td>233.30</td>\n",
              "      <td>3423509</td>\n",
              "      <td>7999.55</td>\n",
              "    </tr>\n",
              "    <tr>\n",
              "      <th>...</th>\n",
              "      <td>...</td>\n",
              "      <td>...</td>\n",
              "      <td>...</td>\n",
              "      <td>...</td>\n",
              "      <td>...</td>\n",
              "      <td>...</td>\n",
              "      <td>...</td>\n",
              "      <td>...</td>\n",
              "    </tr>\n",
              "    <tr>\n",
              "      <th>2030</th>\n",
              "      <td>2010-07-27</td>\n",
              "      <td>117.60</td>\n",
              "      <td>119.50</td>\n",
              "      <td>112.00</td>\n",
              "      <td>118.80</td>\n",
              "      <td>118.65</td>\n",
              "      <td>586100</td>\n",
              "      <td>694.98</td>\n",
              "    </tr>\n",
              "    <tr>\n",
              "      <th>2031</th>\n",
              "      <td>2010-07-26</td>\n",
              "      <td>120.10</td>\n",
              "      <td>121.00</td>\n",
              "      <td>117.10</td>\n",
              "      <td>117.10</td>\n",
              "      <td>117.60</td>\n",
              "      <td>658440</td>\n",
              "      <td>780.01</td>\n",
              "    </tr>\n",
              "    <tr>\n",
              "      <th>2032</th>\n",
              "      <td>2010-07-23</td>\n",
              "      <td>121.80</td>\n",
              "      <td>121.95</td>\n",
              "      <td>120.25</td>\n",
              "      <td>120.35</td>\n",
              "      <td>120.65</td>\n",
              "      <td>281312</td>\n",
              "      <td>340.31</td>\n",
              "    </tr>\n",
              "    <tr>\n",
              "      <th>2033</th>\n",
              "      <td>2010-07-22</td>\n",
              "      <td>120.30</td>\n",
              "      <td>122.00</td>\n",
              "      <td>120.25</td>\n",
              "      <td>120.75</td>\n",
              "      <td>120.90</td>\n",
              "      <td>293312</td>\n",
              "      <td>355.17</td>\n",
              "    </tr>\n",
              "    <tr>\n",
              "      <th>2034</th>\n",
              "      <td>2010-07-21</td>\n",
              "      <td>122.10</td>\n",
              "      <td>123.00</td>\n",
              "      <td>121.05</td>\n",
              "      <td>121.10</td>\n",
              "      <td>121.55</td>\n",
              "      <td>658666</td>\n",
              "      <td>803.56</td>\n",
              "    </tr>\n",
              "  </tbody>\n",
              "</table>\n",
              "<p>2035 rows × 8 columns</p>\n",
              "</div>\n",
              "      <button class=\"colab-df-convert\" onclick=\"convertToInteractive('df-b72b167e-1876-4483-a43c-a04d9fc7a868')\"\n",
              "              title=\"Convert this dataframe to an interactive table.\"\n",
              "              style=\"display:none;\">\n",
              "        \n",
              "  <svg xmlns=\"http://www.w3.org/2000/svg\" height=\"24px\"viewBox=\"0 0 24 24\"\n",
              "       width=\"24px\">\n",
              "    <path d=\"M0 0h24v24H0V0z\" fill=\"none\"/>\n",
              "    <path d=\"M18.56 5.44l.94 2.06.94-2.06 2.06-.94-2.06-.94-.94-2.06-.94 2.06-2.06.94zm-11 1L8.5 8.5l.94-2.06 2.06-.94-2.06-.94L8.5 2.5l-.94 2.06-2.06.94zm10 10l.94 2.06.94-2.06 2.06-.94-2.06-.94-.94-2.06-.94 2.06-2.06.94z\"/><path d=\"M17.41 7.96l-1.37-1.37c-.4-.4-.92-.59-1.43-.59-.52 0-1.04.2-1.43.59L10.3 9.45l-7.72 7.72c-.78.78-.78 2.05 0 2.83L4 21.41c.39.39.9.59 1.41.59.51 0 1.02-.2 1.41-.59l7.78-7.78 2.81-2.81c.8-.78.8-2.07 0-2.86zM5.41 20L4 18.59l7.72-7.72 1.47 1.35L5.41 20z\"/>\n",
              "  </svg>\n",
              "      </button>\n",
              "      \n",
              "  <style>\n",
              "    .colab-df-container {\n",
              "      display:flex;\n",
              "      flex-wrap:wrap;\n",
              "      gap: 12px;\n",
              "    }\n",
              "\n",
              "    .colab-df-convert {\n",
              "      background-color: #E8F0FE;\n",
              "      border: none;\n",
              "      border-radius: 50%;\n",
              "      cursor: pointer;\n",
              "      display: none;\n",
              "      fill: #1967D2;\n",
              "      height: 32px;\n",
              "      padding: 0 0 0 0;\n",
              "      width: 32px;\n",
              "    }\n",
              "\n",
              "    .colab-df-convert:hover {\n",
              "      background-color: #E2EBFA;\n",
              "      box-shadow: 0px 1px 2px rgba(60, 64, 67, 0.3), 0px 1px 3px 1px rgba(60, 64, 67, 0.15);\n",
              "      fill: #174EA6;\n",
              "    }\n",
              "\n",
              "    [theme=dark] .colab-df-convert {\n",
              "      background-color: #3B4455;\n",
              "      fill: #D2E3FC;\n",
              "    }\n",
              "\n",
              "    [theme=dark] .colab-df-convert:hover {\n",
              "      background-color: #434B5C;\n",
              "      box-shadow: 0px 1px 3px 1px rgba(0, 0, 0, 0.15);\n",
              "      filter: drop-shadow(0px 1px 2px rgba(0, 0, 0, 0.3));\n",
              "      fill: #FFFFFF;\n",
              "    }\n",
              "  </style>\n",
              "\n",
              "      <script>\n",
              "        const buttonEl =\n",
              "          document.querySelector('#df-b72b167e-1876-4483-a43c-a04d9fc7a868 button.colab-df-convert');\n",
              "        buttonEl.style.display =\n",
              "          google.colab.kernel.accessAllowed ? 'block' : 'none';\n",
              "\n",
              "        async function convertToInteractive(key) {\n",
              "          const element = document.querySelector('#df-b72b167e-1876-4483-a43c-a04d9fc7a868');\n",
              "          const dataTable =\n",
              "            await google.colab.kernel.invokeFunction('convertToInteractive',\n",
              "                                                     [key], {});\n",
              "          if (!dataTable) return;\n",
              "\n",
              "          const docLinkHtml = 'Like what you see? Visit the ' +\n",
              "            '<a target=\"_blank\" href=https://colab.research.google.com/notebooks/data_table.ipynb>data table notebook</a>'\n",
              "            + ' to learn more about interactive tables.';\n",
              "          element.innerHTML = '';\n",
              "          dataTable['output_type'] = 'display_data';\n",
              "          await google.colab.output.renderOutput(dataTable, element);\n",
              "          const docLink = document.createElement('div');\n",
              "          docLink.innerHTML = docLinkHtml;\n",
              "          element.appendChild(docLink);\n",
              "        }\n",
              "      </script>\n",
              "    </div>\n",
              "  </div>\n",
              "  "
            ]
          },
          "metadata": {},
          "execution_count": 83
        }
      ],
      "source": [
        "import pandas as pd\n",
        "\n",
        "url='https://raw.githubusercontent.com/mwitiderrick/stockprice/master/NSE-TATAGLOBAL.csv'\n",
        "\n",
        "df1=pd.read_csv(url)\n",
        "\n",
        "df1"
      ]
    },
    {
      "cell_type": "markdown",
      "source": [
        "Plotting the close columns on a graph and setting it as index"
      ],
      "metadata": {
        "id": "7sC0T4nY585e"
      }
    },
    {
      "cell_type": "code",
      "source": [
        "import matplotlib.pyplot as plt\n",
        "\n",
        "\n",
        "plt.plot(df1.reset_index()['Close'])\n",
        "\n",
        "plt.show()"
      ],
      "metadata": {
        "colab": {
          "base_uri": "https://localhost:8080/",
          "height": 265
        },
        "id": "mHrE6qgU2eLT",
        "outputId": "b83cee9d-c914-44d0-df74-a057ddd0a2c0"
      },
      "execution_count": null,
      "outputs": [
        {
          "output_type": "display_data",
          "data": {
            "text/plain": [
              "<Figure size 432x288 with 1 Axes>"
            ],
            "image/png": "[encoded data removed]"
          },
          "metadata": {
            "needs_background": "light"
          }
        }
      ]
    },
    {
      "cell_type": "markdown",
      "source": [
        "Applying a data preprocessing teachnique for scaling the features"
      ],
      "metadata": {
        "id": "Ut6aEt1o6H0c"
      }
    },
    {
      "cell_type": "code",
      "source": [
        "from sklearn.preprocessing import MinMaxScaler\n",
        "import numpy as np\n",
        "data_close = df1.reset_index()['Close']\n",
        "\n",
        "scaler = MinMaxScaler(feature_range = (0, 1))\n",
        "# after scaling the data reshape it\n",
        "data_close = scaler.fit_transform(np.array(data_close).reshape(-1, 1))"
      ],
      "metadata": {
        "id": "Z2B-eWfvG-Tl"
      },
      "execution_count": null,
      "outputs": []
    },
    {
      "cell_type": "markdown",
      "source": [
        "Splitting the data into testing and training set"
      ],
      "metadata": {
        "id": "1kYTcn6_6jBE"
      }
    },
    {
      "cell_type": "code",
      "source": [
        "train_size = int(len(data_close)*0.70)\n",
        "test_size = len(data_close) - train_size\n",
        "train, test = data_close[0 : train_size, :], data_close[train_size : len(data_close), :1]"
      ],
      "metadata": {
        "id": "Ffzwft6FHp39"
      },
      "execution_count": null,
      "outputs": []
    },
    {
      "cell_type": "code",
      "source": [
        "def create_matrix(ds, time_step=1):\n",
        "    dataX, dataY = [], []\n",
        "    for i in range(len(ds)-time_step-1):\n",
        "        a = ds[i:(i+time_step),0]\n",
        "        dataX.append(a)\n",
        "        dataY.append(ds[i+time_step,0])\n",
        "    return np.array(dataX), np.array(dataY)"
      ],
      "metadata": {
        "id": "PyhrBE1BH2kJ"
      },
      "execution_count": null,
      "outputs": []
    },
    {
      "cell_type": "code",
      "source": [
        "step=100 \n",
        "X_train, y_train = create_matrix(train, step)\n",
        "X_test, y_test = create_matrix(test, step)\n",
        "print(X_train.shape, y_train.shape)\n",
        "print(X_test.shape, y_test.shape)"
      ],
      "metadata": {
        "colab": {
          "base_uri": "https://localhost:8080/"
        },
        "id": "TK0ukMHSIJRy",
        "outputId": "c264e968-7e16-482d-ffa6-8b3d0c336a1f"
      },
      "execution_count": null,
      "outputs": [
        {
          "output_type": "stream",
          "name": "stdout",
          "text": [
            "(1323, 100) (1323,)\n",
            "(510, 100) (510,)\n"
          ]
        }
      ]
    },
    {
      "cell_type": "markdown",
      "source": [
        "Reshape the data after splitting it"
      ],
      "metadata": {
        "id": "yRIKNKFD68UT"
      }
    },
    {
      "cell_type": "code",
      "source": [
        "X_train = X_train.reshape(X_train.shape[0], X_train.shape[1], 1)\n",
        "X_test = X_test.reshape(X_test.shape[0], X_test.shape[1], 1)"
      ],
      "metadata": {
        "id": "H2-EaeeMIj6g"
      },
      "execution_count": null,
      "outputs": []
    },
    {
      "cell_type": "markdown",
      "source": [
        "Importing libraries to start setting and applying the model"
      ],
      "metadata": {
        "id": "IhlppofW7FUs"
      }
    },
    {
      "cell_type": "code",
      "source": [
        "from tensorflow.keras.models import Sequential\n",
        "from tensorflow.keras.layers import Dense\n",
        "from tensorflow.keras.layers import LSTM\n",
        "from sklearn.metrics import mean_squared_error"
      ],
      "metadata": {
        "id": "uUSBcegdIu0q"
      },
      "execution_count": null,
      "outputs": []
    },
    {
      "cell_type": "code",
      "source": [
        "model = Sequential()\n",
        "model.add(LSTM(50, return_sequences=True,input_shape=(100,1)))\n",
        "model.add(LSTM(50,return_sequences=True))\n",
        "model.add(LSTM(50))\n",
        "model.add(Dense(1))\n",
        "model.compile(loss='mean_squared_error',optimizer='adam')"
      ],
      "metadata": {
        "id": "22kx1IQy6AZz"
      },
      "execution_count": null,
      "outputs": []
    },
    {
      "cell_type": "code",
      "source": [
        "model.summary()"
      ],
      "metadata": {
        "colab": {
          "base_uri": "https://localhost:8080/"
        },
        "id": "NU290Ko08ypc",
        "outputId": "4045e75e-b056-44c6-e0ef-8a2f37894449"
      },
      "execution_count": null,
      "outputs": [
        {
          "output_type": "stream",
          "name": "stdout",
          "text": [
            "Model: \"sequential_3\"\n",
            "_________________________________________________________________\n",
            " Layer (type)                Output Shape              Param #   \n",
            "=================================================================\n",
            " lstm_9 (LSTM)               (None, 100, 50)           10400     \n",
            "                                                                 \n",
            " lstm_10 (LSTM)              (None, 100, 50)           20200     \n",
            "                                                                 \n",
            " lstm_11 (LSTM)              (None, 50)                20200     \n",
            "                                                                 \n",
            " dense_3 (Dense)             (None, 1)                 51        \n",
            "                                                                 \n",
            "=================================================================\n",
            "Total params: 50,851\n",
            "Trainable params: 50,851\n",
            "Non-trainable params: 0\n",
            "_________________________________________________________________\n"
          ]
        }
      ]
    },
    {
      "cell_type": "markdown",
      "source": [
        "Now lets fit the model and lets check to loss for each epoch"
      ],
      "metadata": {
        "id": "rf2LBFn_7YvK"
      }
    },
    {
      "cell_type": "code",
      "source": [
        "history = model.fit(X_train, y_train, validation_split=0.1, epochs=77, batch_size=64, verbose=1, shuffle=True).history"
      ],
      "metadata": {
        "colab": {
          "base_uri": "https://localhost:8080/"
        },
        "id": "A0Flw8RMJFLE",
        "outputId": "8c90c8f0-7009-470b-c47a-b13148072582"
      },
      "execution_count": null,
      "outputs": [
        {
          "output_type": "stream",
          "name": "stdout",
          "text": [
            "Epoch 1/77\n",
            "19/19 [==============================] - 11s 261ms/step - loss: 0.0161 - val_loss: 0.0034\n",
            "Epoch 2/77\n",
            "19/19 [==============================] - 4s 187ms/step - loss: 0.0033 - val_loss: 0.0011\n",
            "Epoch 3/77\n",
            "19/19 [==============================] - 4s 187ms/step - loss: 0.0017 - val_loss: 9.7756e-04\n",
            "Epoch 4/77\n",
            "19/19 [==============================] - 4s 186ms/step - loss: 0.0014 - val_loss: 9.2659e-04\n",
            "Epoch 5/77\n",
            "19/19 [==============================] - 4s 187ms/step - loss: 0.0014 - val_loss: 8.7862e-04\n",
            "Epoch 6/77\n",
            "19/19 [==============================] - 4s 187ms/step - loss: 0.0013 - val_loss: 8.7578e-04\n",
            "Epoch 7/77\n",
            "19/19 [==============================] - 4s 188ms/step - loss: 0.0013 - val_loss: 8.4124e-04\n",
            "Epoch 8/77\n",
            "19/19 [==============================] - 4s 185ms/step - loss: 0.0012 - val_loss: 7.6004e-04\n",
            "Epoch 9/77\n",
            "19/19 [==============================] - 4s 188ms/step - loss: 0.0011 - val_loss: 7.5759e-04\n",
            "Epoch 10/77\n",
            "19/19 [==============================] - 4s 187ms/step - loss: 0.0011 - val_loss: 7.5794e-04\n",
            "Epoch 11/77\n",
            "19/19 [==============================] - 3s 184ms/step - loss: 0.0011 - val_loss: 6.7609e-04\n",
            "Epoch 12/77\n",
            "19/19 [==============================] - 4s 188ms/step - loss: 0.0010 - val_loss: 8.7747e-04\n",
            "Epoch 13/77\n",
            "19/19 [==============================] - 4s 187ms/step - loss: 0.0011 - val_loss: 6.2403e-04\n",
            "Epoch 14/77\n",
            "19/19 [==============================] - 4s 237ms/step - loss: 8.3313e-04 - val_loss: 6.0693e-04\n",
            "Epoch 15/77\n",
            "19/19 [==============================] - 4s 186ms/step - loss: 8.2132e-04 - val_loss: 6.2855e-04\n",
            "Epoch 16/77\n",
            "19/19 [==============================] - 4s 189ms/step - loss: 9.3085e-04 - val_loss: 5.6096e-04\n",
            "Epoch 17/77\n",
            "19/19 [==============================] - 4s 187ms/step - loss: 9.5815e-04 - val_loss: 8.0702e-04\n",
            "Epoch 18/77\n",
            "19/19 [==============================] - 4s 192ms/step - loss: 9.9463e-04 - val_loss: 7.7431e-04\n",
            "Epoch 19/77\n",
            "19/19 [==============================] - 4s 221ms/step - loss: 7.7486e-04 - val_loss: 5.2652e-04\n",
            "Epoch 20/77\n",
            "19/19 [==============================] - 5s 237ms/step - loss: 6.8215e-04 - val_loss: 4.9803e-04\n",
            "Epoch 21/77\n",
            "19/19 [==============================] - 4s 187ms/step - loss: 6.7706e-04 - val_loss: 5.3539e-04\n",
            "Epoch 22/77\n",
            "19/19 [==============================] - 4s 188ms/step - loss: 7.4289e-04 - val_loss: 4.8119e-04\n",
            "Epoch 23/77\n",
            "19/19 [==============================] - 4s 188ms/step - loss: 6.8199e-04 - val_loss: 5.3313e-04\n",
            "Epoch 24/77\n",
            "19/19 [==============================] - 4s 186ms/step - loss: 6.6296e-04 - val_loss: 4.8184e-04\n",
            "Epoch 25/77\n",
            "19/19 [==============================] - 4s 188ms/step - loss: 6.6693e-04 - val_loss: 4.4891e-04\n",
            "Epoch 26/77\n",
            "19/19 [==============================] - 5s 253ms/step - loss: 6.4419e-04 - val_loss: 4.8337e-04\n",
            "Epoch 27/77\n",
            "19/19 [==============================] - 4s 188ms/step - loss: 6.2291e-04 - val_loss: 4.5576e-04\n",
            "Epoch 28/77\n",
            "19/19 [==============================] - 4s 186ms/step - loss: 5.9797e-04 - val_loss: 4.2272e-04\n",
            "Epoch 29/77\n",
            "19/19 [==============================] - 4s 190ms/step - loss: 5.7132e-04 - val_loss: 4.2345e-04\n",
            "Epoch 30/77\n",
            "19/19 [==============================] - 4s 188ms/step - loss: 5.9613e-04 - val_loss: 4.0925e-04\n",
            "Epoch 31/77\n",
            "19/19 [==============================] - 4s 189ms/step - loss: 5.7351e-04 - val_loss: 4.5529e-04\n",
            "Epoch 32/77\n",
            "19/19 [==============================] - 4s 188ms/step - loss: 5.8309e-04 - val_loss: 4.0040e-04\n",
            "Epoch 33/77\n",
            "19/19 [==============================] - 4s 191ms/step - loss: 5.4894e-04 - val_loss: 4.0741e-04\n",
            "Epoch 34/77\n",
            "19/19 [==============================] - 4s 188ms/step - loss: 5.5801e-04 - val_loss: 4.7770e-04\n",
            "Epoch 35/77\n",
            "19/19 [==============================] - 4s 190ms/step - loss: 6.1464e-04 - val_loss: 4.2314e-04\n",
            "Epoch 36/77\n",
            "19/19 [==============================] - 4s 187ms/step - loss: 5.2745e-04 - val_loss: 3.8095e-04\n",
            "Epoch 37/77\n",
            "19/19 [==============================] - 4s 186ms/step - loss: 6.3743e-04 - val_loss: 3.8000e-04\n",
            "Epoch 38/77\n",
            "19/19 [==============================] - 4s 189ms/step - loss: 5.3279e-04 - val_loss: 3.6676e-04\n",
            "Epoch 39/77\n",
            "19/19 [==============================] - 4s 188ms/step - loss: 5.2352e-04 - val_loss: 3.8108e-04\n",
            "Epoch 40/77\n",
            "19/19 [==============================] - 4s 189ms/step - loss: 4.9296e-04 - val_loss: 3.5143e-04\n",
            "Epoch 41/77\n",
            "19/19 [==============================] - 4s 189ms/step - loss: 5.0188e-04 - val_loss: 3.7493e-04\n",
            "Epoch 42/77\n",
            "19/19 [==============================] - 5s 286ms/step - loss: 5.0044e-04 - val_loss: 3.4081e-04\n",
            "Epoch 43/77\n",
            "19/19 [==============================] - 4s 190ms/step - loss: 4.6908e-04 - val_loss: 3.3516e-04\n",
            "Epoch 44/77\n",
            "19/19 [==============================] - 4s 237ms/step - loss: 4.5397e-04 - val_loss: 3.4101e-04\n",
            "Epoch 45/77\n",
            "19/19 [==============================] - 4s 222ms/step - loss: 4.6975e-04 - val_loss: 3.2198e-04\n",
            "Epoch 46/77\n",
            "19/19 [==============================] - 4s 190ms/step - loss: 4.4761e-04 - val_loss: 3.5678e-04\n",
            "Epoch 47/77\n",
            "19/19 [==============================] - 4s 190ms/step - loss: 4.3558e-04 - val_loss: 3.1311e-04\n",
            "Epoch 48/77\n",
            "19/19 [==============================] - 4s 190ms/step - loss: 4.5804e-04 - val_loss: 3.7691e-04\n",
            "Epoch 49/77\n",
            "19/19 [==============================] - 4s 187ms/step - loss: 4.9550e-04 - val_loss: 3.1901e-04\n",
            "Epoch 50/77\n",
            "19/19 [==============================] - 4s 189ms/step - loss: 4.8193e-04 - val_loss: 3.1064e-04\n",
            "Epoch 51/77\n",
            "19/19 [==============================] - 4s 191ms/step - loss: 4.3204e-04 - val_loss: 2.9673e-04\n",
            "Epoch 52/77\n",
            "19/19 [==============================] - 4s 188ms/step - loss: 3.9393e-04 - val_loss: 2.8559e-04\n",
            "Epoch 53/77\n",
            "19/19 [==============================] - 5s 250ms/step - loss: 3.8987e-04 - val_loss: 2.8422e-04\n",
            "Epoch 54/77\n",
            "19/19 [==============================] - 4s 189ms/step - loss: 4.0723e-04 - val_loss: 2.8119e-04\n",
            "Epoch 55/77\n",
            "19/19 [==============================] - 4s 189ms/step - loss: 4.0945e-04 - val_loss: 2.7575e-04\n",
            "Epoch 56/77\n",
            "19/19 [==============================] - 4s 188ms/step - loss: 4.0440e-04 - val_loss: 2.7236e-04\n",
            "Epoch 57/77\n",
            "19/19 [==============================] - 4s 189ms/step - loss: 3.5698e-04 - val_loss: 2.6322e-04\n",
            "Epoch 58/77\n",
            "19/19 [==============================] - 4s 185ms/step - loss: 3.5875e-04 - val_loss: 2.9922e-04\n",
            "Epoch 59/77\n",
            "19/19 [==============================] - 4s 191ms/step - loss: 3.4755e-04 - val_loss: 2.7133e-04\n",
            "Epoch 60/77\n",
            "19/19 [==============================] - 4s 188ms/step - loss: 3.4647e-04 - val_loss: 2.5201e-04\n",
            "Epoch 61/77\n",
            "19/19 [==============================] - 4s 189ms/step - loss: 3.3454e-04 - val_loss: 2.7673e-04\n",
            "Epoch 62/77\n",
            "19/19 [==============================] - 4s 191ms/step - loss: 3.5029e-04 - val_loss: 2.5698e-04\n",
            "Epoch 63/77\n",
            "19/19 [==============================] - 4s 189ms/step - loss: 3.3069e-04 - val_loss: 2.5645e-04\n",
            "Epoch 64/77\n",
            "19/19 [==============================] - 4s 190ms/step - loss: 3.1783e-04 - val_loss: 2.4430e-04\n",
            "Epoch 65/77\n",
            "19/19 [==============================] - 4s 188ms/step - loss: 3.2034e-04 - val_loss: 2.2753e-04\n",
            "Epoch 66/77\n",
            "19/19 [==============================] - 4s 188ms/step - loss: 3.2576e-04 - val_loss: 2.7359e-04\n",
            "Epoch 67/77\n",
            "19/19 [==============================] - 4s 187ms/step - loss: 3.7858e-04 - val_loss: 2.2761e-04\n",
            "Epoch 68/77\n",
            "19/19 [==============================] - 4s 192ms/step - loss: 3.5615e-04 - val_loss: 3.6711e-04\n",
            "Epoch 69/77\n",
            "19/19 [==============================] - 4s 188ms/step - loss: 3.4395e-04 - val_loss: 2.3689e-04\n",
            "Epoch 70/77\n",
            "19/19 [==============================] - 4s 191ms/step - loss: 3.2673e-04 - val_loss: 2.1753e-04\n",
            "Epoch 71/77\n",
            "19/19 [==============================] - 4s 192ms/step - loss: 3.0094e-04 - val_loss: 2.2435e-04\n",
            "Epoch 72/77\n",
            "19/19 [==============================] - 4s 189ms/step - loss: 3.1581e-04 - val_loss: 2.0959e-04\n",
            "Epoch 73/77\n",
            "19/19 [==============================] - 4s 187ms/step - loss: 3.2184e-04 - val_loss: 2.2354e-04\n",
            "Epoch 74/77\n",
            "19/19 [==============================] - 4s 189ms/step - loss: 2.7398e-04 - val_loss: 2.0723e-04\n",
            "Epoch 75/77\n",
            "19/19 [==============================] - 4s 189ms/step - loss: 3.4891e-04 - val_loss: 2.0373e-04\n",
            "Epoch 76/77\n",
            "19/19 [==============================] - 4s 188ms/step - loss: 2.9385e-04 - val_loss: 1.9695e-04\n",
            "Epoch 77/77\n",
            "19/19 [==============================] - 4s 188ms/step - loss: 2.8708e-04 - val_loss: 2.0415e-04\n"
          ]
        }
      ]
    },
    {
      "cell_type": "markdown",
      "source": [
        "Making predictions"
      ],
      "metadata": {
        "id": "jhmE05Tt7kwc"
      }
    },
    {
      "cell_type": "code",
      "source": [
        "train_predict = model.predict(X_train)\n",
        "test_predict = model.predict(X_test)"
      ],
      "metadata": {
        "colab": {
          "base_uri": "https://localhost:8080/"
        },
        "id": "-myriJdNJYPc",
        "outputId": "ae8cdadb-5e68-480d-b1b1-362189ca6b94"
      },
      "execution_count": null,
      "outputs": [
        {
          "output_type": "stream",
          "name": "stdout",
          "text": [
            "42/42 [==============================] - 3s 37ms/step\n",
            "16/16 [==============================] - 1s 36ms/step\n"
          ]
        }
      ]
    },
    {
      "cell_type": "markdown",
      "source": [
        "Lets reverse the the MinMac scaler"
      ],
      "metadata": {
        "id": "5bCJoXf57pBp"
      }
    },
    {
      "cell_type": "code",
      "source": [
        "# Reversing the MinMax Scaler\n",
        "train_predict = scaler.inverse_transform(train_predict)\n",
        "test_predict = scaler.inverse_transform(test_predict)\n"
      ],
      "metadata": {
        "id": "4AGGa5jCJs2J"
      },
      "execution_count": null,
      "outputs": []
    },
    {
      "cell_type": "markdown",
      "source": [
        "Lets calculate the mean squared error for model evaluation"
      ],
      "metadata": {
        "id": "h2bcSlJb7vVL"
      }
    },
    {
      "cell_type": "code",
      "source": [
        "import math # MSE for the training set\n",
        "from sklearn.metrics import mean_squared_error\n",
        "mse_train=math.sqrt(mean_squared_error(y_train,train_predict))\n",
        "mse_train\n"
      ],
      "metadata": {
        "colab": {
          "base_uri": "https://localhost:8080/"
        },
        "id": "wRQpCyXu7o3M",
        "outputId": "3ec882b8-6c57-4816-b5c9-269caa848bc6"
      },
      "execution_count": null,
      "outputs": [
        {
          "output_type": "execute_result",
          "data": {
            "text/plain": [
              "165.97205198325668"
            ]
          },
          "metadata": {},
          "execution_count": 103
        }
      ]
    },
    {
      "cell_type": "code",
      "source": [
        "mse_test=math.sqrt(mean_squared_error(y_test,test_predict)) # MSE for the testing set\n",
        "mse_test"
      ],
      "metadata": {
        "id": "EXPvtEGF9acO",
        "colab": {
          "base_uri": "https://localhost:8080/"
        },
        "outputId": "542906b7-5346-4ec8-c6ee-162302e0a477"
      },
      "execution_count": null,
      "outputs": [
        {
          "output_type": "execute_result",
          "data": {
            "text/plain": [
              "108.79688572348107"
            ]
          },
          "metadata": {},
          "execution_count": 105
        }
      ]
    },
    {
      "cell_type": "markdown",
      "source": [
        "Now lets visualize the predictions"
      ],
      "metadata": {
        "id": "RvoCEfLx8Iaa"
      }
    },
    {
      "cell_type": "code",
      "source": [
        "### Visualize the Predictions\n",
        "look_back = 100\n",
        "train_num_pyredict_plot = np.empty_like(data_close)\n",
        "train_num_pyredict_plot[:, :] = np.nan\n",
        "train_num_pyredict_plot[look_back : len(train_predict) + look_back, :] = train_predict\n",
        "test_predict_plot = np.empty_like(data_close)\n",
        "test_predict_plot[:, :] = np.nan\n",
        "test_predict_plot[len(train_predict) + (look_back * 2) + 1 : len(data_close) - 1, :] = test_predict\n",
        "plt.plot(scaler.inverse_transform(data_close))\n",
        "plt.plot(train_num_pyredict_plot)\n",
        "plt.plot(test_predict_plot)\n",
        "plt.show()"
      ],
      "metadata": {
        "colab": {
          "base_uri": "https://localhost:8080/",
          "height": 265
        },
        "id": "fFtMrIoo_G_L",
        "outputId": "9d483bcc-2a03-4205-f982-6a17f5736cf8"
      },
      "execution_count": null,
      "outputs": [
        {
          "output_type": "display_data",
          "data": {
            "text/plain": [
              "<Figure size 432x288 with 1 Axes>"
            ],
            "image/png": "[encoded data removed]"
          },
          "metadata": {
            "needs_background": "light"
          }
        }
      ]
    },
    {
      "cell_type": "markdown",
      "source": [
        "Green indicates the Predicted Data\n",
        "\n",
        "Blue indicates the Complete Data\n",
        "\n",
        "Orange indicates the Train Data"
      ],
      "metadata": {
        "id": "qv_Wwm78NWdW"
      }
    },
    {
      "cell_type": "markdown",
      "source": [
        "Future prediction model"
      ],
      "metadata": {
        "id": "ZdRCO9VF8S84"
      }
    },
    {
      "cell_type": "code",
      "source": [
        "x_inum_pyut=test[307:].reshape(1, -1)\n",
        "x_inum_pyut.shape\n",
        "temp_inum_pyut = list(x_inum_pyut)\n",
        "temp_inum_pyut = temp_inum_pyut[0].tolist()\n",
        "temp_inum_pyut = list(x_inum_pyut)\n",
        "temp_inum_pyut = temp_inum_pyut[0].tolist()"
      ],
      "metadata": {
        "id": "Ah7cY78WFfKV"
      },
      "execution_count": null,
      "outputs": []
    },
    {
      "cell_type": "code",
      "source": [
        "day_new = np.arange(1, 101)\n",
        "day_pred = np.arange(101, 131)\n",
        "plt.plot(day_new, scaler.inverse_transform(data_close[1935 : ]))"
      ],
      "metadata": {
        "colab": {
          "base_uri": "https://localhost:8080/",
          "height": 282
        },
        "id": "cUTlG0q3M3wB",
        "outputId": "5dcfa166-c5a1-491a-9b38-e6892985842a"
      },
      "execution_count": null,
      "outputs": [
        {
          "output_type": "execute_result",
          "data": {
            "text/plain": [
              "[<matplotlib.lines.Line2D at 0x7fe9fcfa8b80>]"
            ]
          },
          "metadata": {},
          "execution_count": 109
        },
        {
          "output_type": "display_data",
          "data": {
            "text/plain": [
              "<Figure size 432x288 with 1 Axes>"
            ],
            "image/png": "[encoded data removed]"
          },
          "metadata": {
            "needs_background": "light"
          }
        }
      ]
    }
  ]
}